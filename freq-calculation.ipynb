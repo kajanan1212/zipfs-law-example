{
 "cells": [
  {
   "cell_type": "code",
   "execution_count": 116,
   "id": "20e230a3",
   "metadata": {},
   "outputs": [],
   "source": [
    "import spacy\n",
    "import pathlib\n",
    "from collections import Counter\n",
    "import pandas as pd\n",
    "import matplotlib.pyplot as plt\n",
    "import seaborn as sns\n",
    "import numpy as np"
   ]
  },
  {
   "cell_type": "code",
   "execution_count": 117,
   "id": "4e27e01c",
   "metadata": {},
   "outputs": [
    {
     "data": {
      "text/plain": [
       "1443988"
      ]
     },
     "execution_count": 117,
     "metadata": {},
     "output_type": "execute_result"
    }
   ],
   "source": [
    "file_name = \"17535_Tamil.txt\"\n",
    "text = pathlib.Path(file_name).read_text(encoding=\"utf-8\")\n",
    "len(text)"
   ]
  },
  {
   "cell_type": "code",
   "execution_count": 118,
   "id": "05fdc21a",
   "metadata": {},
   "outputs": [
    {
     "data": {
      "text/plain": [
       "<spacy.lang.en.English at 0x7fea166d2640>"
      ]
     },
     "execution_count": 118,
     "metadata": {},
     "output_type": "execute_result"
    }
   ],
   "source": [
    "nlp = spacy.load(\"en_core_web_sm\")\n",
    "nlp"
   ]
  },
  {
   "cell_type": "code",
   "execution_count": 119,
   "id": "8356857f",
   "metadata": {},
   "outputs": [
    {
     "data": {
      "text/plain": [
       "1000000"
      ]
     },
     "execution_count": 119,
     "metadata": {},
     "output_type": "execute_result"
    }
   ],
   "source": [
    "nlp.max_length"
   ]
  },
  {
   "cell_type": "code",
   "execution_count": 120,
   "id": "3ca654a6",
   "metadata": {},
   "outputs": [
    {
     "data": {
      "text/plain": [
       "1443988"
      ]
     },
     "execution_count": 120,
     "metadata": {},
     "output_type": "execute_result"
    }
   ],
   "source": [
    "nlp.max_length = len(text)\n",
    "nlp.max_length"
   ]
  },
  {
   "cell_type": "code",
   "execution_count": 121,
   "id": "8fa2deae",
   "metadata": {},
   "outputs": [],
   "source": [
    "doc = nlp(text)"
   ]
  },
  {
   "cell_type": "markdown",
   "id": "e72e82ac",
   "metadata": {},
   "source": [
    "### The frequencies of each word"
   ]
  },
  {
   "cell_type": "code",
   "execution_count": 122,
   "id": "06e3dd62",
   "metadata": {},
   "outputs": [
    {
     "name": "stdout",
     "output_type": "stream",
     "text": [
      "['அமைச்சின்', 'பணிகளை', 'முன்னெடுப்பதற்கு', 'கௌர', 'அமைச்சர்', 'வாசுதேவ', 'நாணாயக்கார', 'அவர்களுக்கு', 'தத்துவம்', 'வழங்கப்பட்டதுடன்', 'திருமதி', 'எம்', 'எஸ்', 'விக்கிரமசிங்க', 'அமைச்சின்', 'செயலாளராக', 'செயலாற்றுகிறார்', '\\uf0b7', 'தேசிய', 'மொழிகள்', 'சமூக', 'ஒருமைப்பாடு', 'தொடர்பான', 'கொள்கைகள்', 'நிகழ்ச்சித்', 'திட்டங்களையும்', 'கருத்திட்டங்களையும்', 'வகுத்தமைத்தல்', '\\uf0b7', 'குறித்த', 'தேசிய', 'நோக்கங்களை', 'எய்தும்', 'பொருட்டு', 'தேசிய', 'திட்டமிடல்', 'அதிகாரிகளுடன்', 'உடன்பட்ட', 'செயற்பாட்டு', 'எல்லைகுள்ளும்', 'வரவு', 'செலவுத்', 'திட்டத்தில்', 'அடங்கப்பெற்ற', 'வளங்களை', 'விஞ்சாதவாறும்', 'சொல்லப்பட்ட', 'கொள்கைகளையும்', 'நிகழ்ச்சித்திட்டங்களையும்', 'கருத்திட்டங்களையும்', 'செயற்படுத்தலும்', 'நெறிப்படுத்தலும்', '\\uf0b7', 'தேசிய', 'மொழிக்', 'கொள்கையை', 'வகுத்தமைத்தல்', 'செயற்படுத்துதலுடன்', 'தொடர்பான', 'அலுவல்கள்', 'இலங்கை', 'அரசகரும', 'மொழிகள்', 'கொள்கையை', 'அமுலாக்குவது', 'தொடர்பான', 'நிகழ்ச்சித்திட்டங்களை', 'அமுலாக்கலும்', 'அரசகரும', 'மொழிகள்', 'கொள்கை', 'அமுலாக்கல்', 'செயற்பாடுகளை', 'மேற்பார்வை', 'மற்றும்', 'தேவையான', 'கொள்கை', 'ரீதியான', 'தீர்மானங்களை', 'எடுக்கும்', 'நிலையை', 'ஏற்படுத்துவதற்கு', 'சாதகமான', 'அடியை', 'முன்வைத்து', 'அமைச்சு', '2010ம்', 'ஆண்டு', 'மொழிகள்', 'பிரிவு', 'தாபிக்கப்பட்டது', '\\uf0b7', 'மும்மொழி', 'இலங்கைக்கான', 'பத்தாண்டு', 'திட்டத்திற்கு', 'அமைவாக', 'அமைச்சின்', 'விடயப்', 'பரப்புக்கு']\n"
     ]
    }
   ],
   "source": [
    "tokens = [token.text for token in doc if not token.is_punct and token.text != \"\\n\"]\n",
    "print(tokens[:100])"
   ]
  },
  {
   "cell_type": "code",
   "execution_count": 123,
   "id": "2256f825",
   "metadata": {},
   "outputs": [],
   "source": [
    "tokens_freq = Counter(tokens)"
   ]
  },
  {
   "cell_type": "code",
   "execution_count": 124,
   "id": "48f9ab05",
   "metadata": {},
   "outputs": [
    {
     "data": {
      "text/html": [
       "<div>\n",
       "<style scoped>\n",
       "    .dataframe tbody tr th:only-of-type {\n",
       "        vertical-align: middle;\n",
       "    }\n",
       "\n",
       "    .dataframe tbody tr th {\n",
       "        vertical-align: top;\n",
       "    }\n",
       "\n",
       "    .dataframe thead th {\n",
       "        text-align: right;\n",
       "    }\n",
       "</style>\n",
       "<table border=\"1\" class=\"dataframe\">\n",
       "  <thead>\n",
       "    <tr style=\"text-align: right;\">\n",
       "      <th></th>\n",
       "      <th>Word</th>\n",
       "      <th>Freq</th>\n",
       "    </tr>\n",
       "  </thead>\n",
       "  <tbody>\n",
       "    <tr>\n",
       "      <th>60</th>\n",
       "      <td>மற்றும்</td>\n",
       "      <td>2015</td>\n",
       "    </tr>\n",
       "    <tr>\n",
       "      <th>85</th>\n",
       "      <td>ஆம்</td>\n",
       "      <td>1520</td>\n",
       "    </tr>\n",
       "    <tr>\n",
       "      <th>981</th>\n",
       "      <td>அல்லது</td>\n",
       "      <td>1041</td>\n",
       "    </tr>\n",
       "    <tr>\n",
       "      <th>696</th>\n",
       "      <td>வேண்டும்</td>\n",
       "      <td>1031</td>\n",
       "    </tr>\n",
       "    <tr>\n",
       "      <th>6193</th>\n",
       "      <td>அவர்</td>\n",
       "      <td>793</td>\n",
       "    </tr>\n",
       "    <tr>\n",
       "      <th>...</th>\n",
       "      <td>...</td>\n",
       "      <td>...</td>\n",
       "    </tr>\n",
       "    <tr>\n",
       "      <th>13728</th>\n",
       "      <td>கணக்காளருக்கு</td>\n",
       "      <td>1</td>\n",
       "    </tr>\n",
       "    <tr>\n",
       "      <th>13727</th>\n",
       "      <td>முடியுமாவென</td>\n",
       "      <td>1</td>\n",
       "    </tr>\n",
       "    <tr>\n",
       "      <th>13726</th>\n",
       "      <td>குறித்தொதுக்கிக்கொள்ள</td>\n",
       "      <td>1</td>\n",
       "    </tr>\n",
       "    <tr>\n",
       "      <th>13725</th>\n",
       "      <td>இடமளிக்கப்படமாட்டாது</td>\n",
       "      <td>1</td>\n",
       "    </tr>\n",
       "    <tr>\n",
       "      <th>29562</th>\n",
       "      <td>இ்ச்</td>\n",
       "      <td>1</td>\n",
       "    </tr>\n",
       "  </tbody>\n",
       "</table>\n",
       "<p>29563 rows × 2 columns</p>\n",
       "</div>"
      ],
      "text/plain": [
       "                        Word  Freq\n",
       "60                   மற்றும்  2015\n",
       "85                       ஆம்  1520\n",
       "981                   அல்லது  1041\n",
       "696                 வேண்டும்  1031\n",
       "6193                    அவர்   793\n",
       "...                      ...   ...\n",
       "13728          கணக்காளருக்கு     1\n",
       "13727            முடியுமாவென     1\n",
       "13726  குறித்தொதுக்கிக்கொள்ள     1\n",
       "13725   இடமளிக்கப்படமாட்டாது     1\n",
       "29562                   இ்ச்     1\n",
       "\n",
       "[29563 rows x 2 columns]"
      ]
     },
     "execution_count": 124,
     "metadata": {},
     "output_type": "execute_result"
    }
   ],
   "source": [
    "tokens_freq_df = pd.DataFrame({\"Word\": list(tokens_freq.keys()),\"Freq\": list(tokens_freq.values())})\n",
    "tokens_freq_df = tokens_freq_df.sort_values(by=\"Freq\", ascending=False)\n",
    "tokens_freq_df"
   ]
  },
  {
   "cell_type": "code",
   "execution_count": 125,
   "id": "08650f95",
   "metadata": {},
   "outputs": [],
   "source": [
    "tokens_freq_df.to_csv(\"Frq.csv\", index=False, encoding=\"utf-8\")"
   ]
  },
  {
   "cell_type": "markdown",
   "id": "a240aeb9",
   "metadata": {},
   "source": [
    "### The frequency of frequencies of each word"
   ]
  },
  {
   "cell_type": "code",
   "execution_count": 126,
   "id": "006e52f3",
   "metadata": {},
   "outputs": [],
   "source": [
    "freqs = tokens_freq_df[\"Freq\"].values\n",
    "freqs_freq = Counter(freqs)"
   ]
  },
  {
   "cell_type": "code",
   "execution_count": 127,
   "id": "4f85040d",
   "metadata": {},
   "outputs": [
    {
     "data": {
      "text/html": [
       "<div>\n",
       "<style scoped>\n",
       "    .dataframe tbody tr th:only-of-type {\n",
       "        vertical-align: middle;\n",
       "    }\n",
       "\n",
       "    .dataframe tbody tr th {\n",
       "        vertical-align: top;\n",
       "    }\n",
       "\n",
       "    .dataframe thead th {\n",
       "        text-align: right;\n",
       "    }\n",
       "</style>\n",
       "<table border=\"1\" class=\"dataframe\">\n",
       "  <thead>\n",
       "    <tr style=\"text-align: right;\">\n",
       "      <th></th>\n",
       "      <th>Freq</th>\n",
       "      <th>FreqOfFreq</th>\n",
       "    </tr>\n",
       "  </thead>\n",
       "  <tbody>\n",
       "    <tr>\n",
       "      <th>222</th>\n",
       "      <td>1</td>\n",
       "      <td>17782</td>\n",
       "    </tr>\n",
       "    <tr>\n",
       "      <th>221</th>\n",
       "      <td>2</td>\n",
       "      <td>4302</td>\n",
       "    </tr>\n",
       "    <tr>\n",
       "      <th>220</th>\n",
       "      <td>3</td>\n",
       "      <td>1925</td>\n",
       "    </tr>\n",
       "    <tr>\n",
       "      <th>219</th>\n",
       "      <td>4</td>\n",
       "      <td>1130</td>\n",
       "    </tr>\n",
       "    <tr>\n",
       "      <th>218</th>\n",
       "      <td>5</td>\n",
       "      <td>689</td>\n",
       "    </tr>\n",
       "    <tr>\n",
       "      <th>...</th>\n",
       "      <td>...</td>\n",
       "      <td>...</td>\n",
       "    </tr>\n",
       "    <tr>\n",
       "      <th>4</th>\n",
       "      <td>793</td>\n",
       "      <td>1</td>\n",
       "    </tr>\n",
       "    <tr>\n",
       "      <th>3</th>\n",
       "      <td>1031</td>\n",
       "      <td>1</td>\n",
       "    </tr>\n",
       "    <tr>\n",
       "      <th>2</th>\n",
       "      <td>1041</td>\n",
       "      <td>1</td>\n",
       "    </tr>\n",
       "    <tr>\n",
       "      <th>1</th>\n",
       "      <td>1520</td>\n",
       "      <td>1</td>\n",
       "    </tr>\n",
       "    <tr>\n",
       "      <th>0</th>\n",
       "      <td>2015</td>\n",
       "      <td>1</td>\n",
       "    </tr>\n",
       "  </tbody>\n",
       "</table>\n",
       "<p>223 rows × 2 columns</p>\n",
       "</div>"
      ],
      "text/plain": [
       "     Freq  FreqOfFreq\n",
       "222     1       17782\n",
       "221     2        4302\n",
       "220     3        1925\n",
       "219     4        1130\n",
       "218     5         689\n",
       "..    ...         ...\n",
       "4     793           1\n",
       "3    1031           1\n",
       "2    1041           1\n",
       "1    1520           1\n",
       "0    2015           1\n",
       "\n",
       "[223 rows x 2 columns]"
      ]
     },
     "execution_count": 127,
     "metadata": {},
     "output_type": "execute_result"
    }
   ],
   "source": [
    "freqs_freq_df = pd.DataFrame({\"Freq\": list(freqs_freq.keys()),\"FreqOfFreq\": list(freqs_freq.values())})\n",
    "freqs_freq_df = freqs_freq_df.sort_values(by=\"Freq\")\n",
    "freqs_freq_df"
   ]
  },
  {
   "cell_type": "code",
   "execution_count": 128,
   "id": "a59310a0",
   "metadata": {},
   "outputs": [],
   "source": [
    "freqs_freq_df.to_csv(\"FrFr.csv\", index=False, encoding=\"utf-8\")"
   ]
  },
  {
   "cell_type": "markdown",
   "id": "117ab1a4",
   "metadata": {},
   "source": [
    "### The rank"
   ]
  },
  {
   "cell_type": "code",
   "execution_count": 129,
   "id": "2c3a13f7",
   "metadata": {},
   "outputs": [
    {
     "data": {
      "text/html": [
       "<div>\n",
       "<style scoped>\n",
       "    .dataframe tbody tr th:only-of-type {\n",
       "        vertical-align: middle;\n",
       "    }\n",
       "\n",
       "    .dataframe tbody tr th {\n",
       "        vertical-align: top;\n",
       "    }\n",
       "\n",
       "    .dataframe thead th {\n",
       "        text-align: right;\n",
       "    }\n",
       "</style>\n",
       "<table border=\"1\" class=\"dataframe\">\n",
       "  <thead>\n",
       "    <tr style=\"text-align: right;\">\n",
       "      <th></th>\n",
       "      <th>Word</th>\n",
       "      <th>Freq</th>\n",
       "      <th>Rank</th>\n",
       "    </tr>\n",
       "  </thead>\n",
       "  <tbody>\n",
       "    <tr>\n",
       "      <th>60</th>\n",
       "      <td>மற்றும்</td>\n",
       "      <td>2015</td>\n",
       "      <td>1</td>\n",
       "    </tr>\n",
       "    <tr>\n",
       "      <th>85</th>\n",
       "      <td>ஆம்</td>\n",
       "      <td>1520</td>\n",
       "      <td>2</td>\n",
       "    </tr>\n",
       "    <tr>\n",
       "      <th>981</th>\n",
       "      <td>அல்லது</td>\n",
       "      <td>1041</td>\n",
       "      <td>3</td>\n",
       "    </tr>\n",
       "    <tr>\n",
       "      <th>696</th>\n",
       "      <td>வேண்டும்</td>\n",
       "      <td>1031</td>\n",
       "      <td>4</td>\n",
       "    </tr>\n",
       "    <tr>\n",
       "      <th>6193</th>\n",
       "      <td>அவர்</td>\n",
       "      <td>793</td>\n",
       "      <td>5</td>\n",
       "    </tr>\n",
       "    <tr>\n",
       "      <th>...</th>\n",
       "      <td>...</td>\n",
       "      <td>...</td>\n",
       "      <td>...</td>\n",
       "    </tr>\n",
       "    <tr>\n",
       "      <th>13728</th>\n",
       "      <td>கணக்காளருக்கு</td>\n",
       "      <td>1</td>\n",
       "      <td>29559</td>\n",
       "    </tr>\n",
       "    <tr>\n",
       "      <th>13727</th>\n",
       "      <td>முடியுமாவென</td>\n",
       "      <td>1</td>\n",
       "      <td>29560</td>\n",
       "    </tr>\n",
       "    <tr>\n",
       "      <th>13726</th>\n",
       "      <td>குறித்தொதுக்கிக்கொள்ள</td>\n",
       "      <td>1</td>\n",
       "      <td>29561</td>\n",
       "    </tr>\n",
       "    <tr>\n",
       "      <th>13725</th>\n",
       "      <td>இடமளிக்கப்படமாட்டாது</td>\n",
       "      <td>1</td>\n",
       "      <td>29562</td>\n",
       "    </tr>\n",
       "    <tr>\n",
       "      <th>29562</th>\n",
       "      <td>இ்ச்</td>\n",
       "      <td>1</td>\n",
       "      <td>29563</td>\n",
       "    </tr>\n",
       "  </tbody>\n",
       "</table>\n",
       "<p>29563 rows × 3 columns</p>\n",
       "</div>"
      ],
      "text/plain": [
       "                        Word  Freq   Rank\n",
       "60                   மற்றும்  2015      1\n",
       "85                       ஆம்  1520      2\n",
       "981                   அல்லது  1041      3\n",
       "696                 வேண்டும்  1031      4\n",
       "6193                    அவர்   793      5\n",
       "...                      ...   ...    ...\n",
       "13728          கணக்காளருக்கு     1  29559\n",
       "13727            முடியுமாவென     1  29560\n",
       "13726  குறித்தொதுக்கிக்கொள்ள     1  29561\n",
       "13725   இடமளிக்கப்படமாட்டாது     1  29562\n",
       "29562                   இ்ச்     1  29563\n",
       "\n",
       "[29563 rows x 3 columns]"
      ]
     },
     "execution_count": 129,
     "metadata": {},
     "output_type": "execute_result"
    }
   ],
   "source": [
    "rank_df = tokens_freq_df.copy()\n",
    "rank_df[\"Rank\"] = rank_df[\"Freq\"].rank(method=\"first\", ascending=False).astype(\"int\")\n",
    "rank_df = rank_df.sort_values(by=\"Rank\")\n",
    "rank_df"
   ]
  },
  {
   "cell_type": "code",
   "execution_count": 130,
   "id": "d629eda2",
   "metadata": {},
   "outputs": [],
   "source": [
    "rank_df.to_csv(\"Rank.csv\", index=False, encoding=\"utf-8\")"
   ]
  },
  {
   "cell_type": "markdown",
   "id": "934e1f4b",
   "metadata": {},
   "source": [
    "### The rank vs frequency graph"
   ]
  },
  {
   "cell_type": "code",
   "execution_count": 131,
   "id": "fe6370c3",
   "metadata": {},
   "outputs": [
    {
     "data": {
      "text/html": [
       "<div>\n",
       "<style scoped>\n",
       "    .dataframe tbody tr th:only-of-type {\n",
       "        vertical-align: middle;\n",
       "    }\n",
       "\n",
       "    .dataframe tbody tr th {\n",
       "        vertical-align: top;\n",
       "    }\n",
       "\n",
       "    .dataframe thead th {\n",
       "        text-align: right;\n",
       "    }\n",
       "</style>\n",
       "<table border=\"1\" class=\"dataframe\">\n",
       "  <thead>\n",
       "    <tr style=\"text-align: right;\">\n",
       "      <th></th>\n",
       "      <th>Word</th>\n",
       "      <th>Freq</th>\n",
       "      <th>Rank</th>\n",
       "      <th>logRank</th>\n",
       "      <th>logFreq</th>\n",
       "    </tr>\n",
       "  </thead>\n",
       "  <tbody>\n",
       "    <tr>\n",
       "      <th>60</th>\n",
       "      <td>மற்றும்</td>\n",
       "      <td>2015</td>\n",
       "      <td>1</td>\n",
       "      <td>0.000000</td>\n",
       "      <td>7.608374</td>\n",
       "    </tr>\n",
       "    <tr>\n",
       "      <th>85</th>\n",
       "      <td>ஆம்</td>\n",
       "      <td>1520</td>\n",
       "      <td>2</td>\n",
       "      <td>0.693147</td>\n",
       "      <td>7.326466</td>\n",
       "    </tr>\n",
       "    <tr>\n",
       "      <th>981</th>\n",
       "      <td>அல்லது</td>\n",
       "      <td>1041</td>\n",
       "      <td>3</td>\n",
       "      <td>1.098612</td>\n",
       "      <td>6.947937</td>\n",
       "    </tr>\n",
       "    <tr>\n",
       "      <th>696</th>\n",
       "      <td>வேண்டும்</td>\n",
       "      <td>1031</td>\n",
       "      <td>4</td>\n",
       "      <td>1.386294</td>\n",
       "      <td>6.938284</td>\n",
       "    </tr>\n",
       "    <tr>\n",
       "      <th>6193</th>\n",
       "      <td>அவர்</td>\n",
       "      <td>793</td>\n",
       "      <td>5</td>\n",
       "      <td>1.609438</td>\n",
       "      <td>6.675823</td>\n",
       "    </tr>\n",
       "    <tr>\n",
       "      <th>...</th>\n",
       "      <td>...</td>\n",
       "      <td>...</td>\n",
       "      <td>...</td>\n",
       "      <td>...</td>\n",
       "      <td>...</td>\n",
       "    </tr>\n",
       "    <tr>\n",
       "      <th>13728</th>\n",
       "      <td>கணக்காளருக்கு</td>\n",
       "      <td>1</td>\n",
       "      <td>29559</td>\n",
       "      <td>10.294144</td>\n",
       "      <td>0.000000</td>\n",
       "    </tr>\n",
       "    <tr>\n",
       "      <th>13727</th>\n",
       "      <td>முடியுமாவென</td>\n",
       "      <td>1</td>\n",
       "      <td>29560</td>\n",
       "      <td>10.294177</td>\n",
       "      <td>0.000000</td>\n",
       "    </tr>\n",
       "    <tr>\n",
       "      <th>13726</th>\n",
       "      <td>குறித்தொதுக்கிக்கொள்ள</td>\n",
       "      <td>1</td>\n",
       "      <td>29561</td>\n",
       "      <td>10.294211</td>\n",
       "      <td>0.000000</td>\n",
       "    </tr>\n",
       "    <tr>\n",
       "      <th>13725</th>\n",
       "      <td>இடமளிக்கப்படமாட்டாது</td>\n",
       "      <td>1</td>\n",
       "      <td>29562</td>\n",
       "      <td>10.294245</td>\n",
       "      <td>0.000000</td>\n",
       "    </tr>\n",
       "    <tr>\n",
       "      <th>29562</th>\n",
       "      <td>இ்ச்</td>\n",
       "      <td>1</td>\n",
       "      <td>29563</td>\n",
       "      <td>10.294279</td>\n",
       "      <td>0.000000</td>\n",
       "    </tr>\n",
       "  </tbody>\n",
       "</table>\n",
       "<p>29563 rows × 5 columns</p>\n",
       "</div>"
      ],
      "text/plain": [
       "                        Word  Freq   Rank    logRank   logFreq\n",
       "60                   மற்றும்  2015      1   0.000000  7.608374\n",
       "85                       ஆம்  1520      2   0.693147  7.326466\n",
       "981                   அல்லது  1041      3   1.098612  6.947937\n",
       "696                 வேண்டும்  1031      4   1.386294  6.938284\n",
       "6193                    அவர்   793      5   1.609438  6.675823\n",
       "...                      ...   ...    ...        ...       ...\n",
       "13728          கணக்காளருக்கு     1  29559  10.294144  0.000000\n",
       "13727            முடியுமாவென     1  29560  10.294177  0.000000\n",
       "13726  குறித்தொதுக்கிக்கொள்ள     1  29561  10.294211  0.000000\n",
       "13725   இடமளிக்கப்படமாட்டாது     1  29562  10.294245  0.000000\n",
       "29562                   இ்ச்     1  29563  10.294279  0.000000\n",
       "\n",
       "[29563 rows x 5 columns]"
      ]
     },
     "execution_count": 131,
     "metadata": {},
     "output_type": "execute_result"
    }
   ],
   "source": [
    "graph_df = rank_df.copy()\n",
    "graph_df[\"logRank\"] = np.log(graph_df[\"Rank\"])\n",
    "graph_df[\"logFreq\"] = np.log(graph_df[\"Freq\"])\n",
    "graph_df"
   ]
  },
  {
   "cell_type": "code",
   "execution_count": 132,
   "id": "f670406c",
   "metadata": {},
   "outputs": [],
   "source": [
    "# plt.figure(figsize=(13, 10))\n",
    "# ax = plt.axes()\n",
    "# sns.scatterplot(data=graph_df, x=\"Rank\", y=\"Freq\")\n",
    "# ax.set_xscale(\"log\")\n",
    "# ax.set_yscale(\"log\")\n",
    "# ax.set_title(\"Rank and frequency of each token in logarithmic scales\", color='black', loc=\"center\", fontsize=12)\n",
    "# ax.set_xlabel(\"Rank\", fontsize=12)\n",
    "# ax.set_ylabel(\"Frequency\", fontsize=12)\n",
    "# ax.set_aspect(\"equal\")\n",
    "# plt.xticks(rotation=0)\n",
    "# plt.savefig(\"Graph.png\", dpi=200)\n",
    "# plt.show()"
   ]
  },
  {
   "cell_type": "code",
   "execution_count": 133,
   "id": "27527657",
   "metadata": {},
   "outputs": [],
   "source": [
    "# plt.figure(figsize=(13, 10))\n",
    "# ax = plt.axes()\n",
    "# sns.lineplot(data=graph_df, x=\"Rank\", y=\"Freq\", ci=None)\n",
    "# ax.set_xscale(\"log\")\n",
    "# ax.set_yscale(\"log\")\n",
    "# ax.set_title(\"Rank and frequency of each token in logarithmic scales\", color='black', loc=\"center\", fontsize=12)\n",
    "# ax.set_xlabel(\"Rank\", fontsize=12)\n",
    "# ax.set_ylabel(\"Frequency\", fontsize=12)\n",
    "# ax.set_aspect(\"equal\")\n",
    "# plt.xticks(rotation=0)\n",
    "# plt.savefig(\"Graph.png\", dpi=200)\n",
    "# plt.show()"
   ]
  },
  {
   "cell_type": "code",
   "execution_count": 134,
   "id": "9fc1298a",
   "metadata": {},
   "outputs": [
    {
     "data": {
      "image/png": "[encoded data removed]",
      "text/plain": [
       "<Figure size 1300x1000 with 1 Axes>"
      ]
     },
     "metadata": {},
     "output_type": "display_data"
    }
   ],
   "source": [
    "plt.figure(figsize=(13, 10))\n",
    "ax = plt.axes()\n",
    "plt.loglog(graph_df[\"Rank\"], graph_df[\"Freq\"], 'bo', markersize=5)\n",
    "ax.set_title(\"Rank and frequency of each token in logarithmic scales\", color='black', loc=\"center\", fontsize=12)\n",
    "ax.set_xlabel(\"Rank\", fontsize=12)\n",
    "ax.set_ylabel(\"Frequency\", fontsize=12)\n",
    "ax.set_aspect(\"equal\")\n",
    "plt.xticks(rotation=0)\n",
    "plt.savefig(\"Graph.png\", dpi=200)\n",
    "plt.show()"
   ]
  },
  {
   "cell_type": "code",
   "execution_count": null,
   "id": "c144cf7f",
   "metadata": {},
   "outputs": [],
   "source": []
  }
 ],
 "metadata": {
  "kernelspec": {
   "display_name": "Python 3 (ipykernel)",
   "language": "python",
   "name": "python3"
  },
  "language_info": {
   "codemirror_mode": {
    "name": "ipython",
    "version": 3
   },
   "file_extension": ".py",
   "mimetype": "text/x-python",
   "name": "python",
   "nbconvert_exporter": "python",
   "pygments_lexer": "ipython3",
   "version": "3.9.13"
  }
 },
 "nbformat": 4,
 "nbformat_minor": 5
}
